{
  "nbformat": 4,
  "nbformat_minor": 0,
  "metadata": {
    "colab": {
      "name": "Untitled2.ipynb",
      "version": "0.3.2",
      "provenance": [],
      "include_colab_link": true
    },
    "kernelspec": {
      "name": "python3",
      "display_name": "Python 3"
    }
  },
  "cells": [
    {
      "cell_type": "markdown",
      "metadata": {
        "id": "view-in-github",
        "colab_type": "text"
      },
      "source": [
        "<a href=\"https://colab.research.google.com/github/BillFei/tensorflow/blob/master/keras-text.ipynb\" target=\"_parent\"><img src=\"https://colab.research.google.com/assets/colab-badge.svg\" alt=\"Open In Colab\"/></a>"
      ]
    },
    {
      "cell_type": "code",
      "metadata": {
        "id": "JbB3yPpHYGUo",
        "colab_type": "code",
        "colab": {
          "base_uri": "https://localhost:8080/",
          "height": 35
        },
        "outputId": "091c4f9e-d087-4d62-c95c-4d7a72f0ba79"
      },
      "source": [
        "!pip install -q tensorflow==2.0.0-beta1\n",
        "!pip install numpy==1.16.2"
      ],
      "execution_count": 14,
      "outputs": [
        {
          "output_type": "stream",
          "text": [
            "Requirement already satisfied: numpy==1.16.2 in /usr/local/lib/python3.6/dist-packages (1.16.2)\n"
          ],
          "name": "stdout"
        }
      ]
    },
    {
      "cell_type": "code",
      "metadata": {
        "id": "7K2CmBhmGmpA",
        "colab_type": "code",
        "colab": {
          "base_uri": "https://localhost:8080/",
          "height": 71
        },
        "outputId": "b7301252-5d7c-4a7c-c086-1242777b5cad"
      },
      "source": [
        "\n",
        "\n",
        "from __future__ import absolute_import, division, print_function, unicode_literals\n",
        "import tensorflow as tf\n",
        "import numpy as np\n",
        "from tensorflow import keras\n",
        "\n",
        "from tensorflow.keras.preprocessing import sequence\n",
        "from tensorflow.keras.models import Sequential\n",
        "from tensorflow.keras.layers import Dense\n",
        "from tensorflow.keras.layers import Embedding\n",
        "from tensorflow.keras.layers import GlobalAveragePooling1D\n",
        "from tensorflow.keras.datasets import imdb\n",
        "\n",
        "\n",
        "\n",
        "print(tf.__version__)\n",
        "print(keras.__version__)\n",
        "print(np.__version__)"
      ],
      "execution_count": 32,
      "outputs": [
        {
          "output_type": "stream",
          "text": [
            "2.0.0-beta1\n",
            "2.2.4-tf\n",
            "1.16.2\n"
          ],
          "name": "stdout"
        }
      ]
    },
    {
      "cell_type": "code",
      "metadata": {
        "id": "FYOfpU5dMqdU",
        "colab_type": "code",
        "colab": {}
      },
      "source": [
        "def create_ngram_set(input_list, ngram_value):\n",
        "  return set(zip(*[input_list[i:] for i in range(ngram_value)]))\n",
        "\n",
        "def add_ngram(sequences, token_indice, ngram_range=2):\n",
        "  new_sequences = []\n",
        "  for input_list in sequences:\n",
        "    new_list = input_list[:]\n",
        "    for ngram_value in range(2, ngram_range + 1):\n",
        "      for i in range(len(new_list)-ngram_value+1):\n",
        "        ngram = tuple(new_list[i:i+ngram_value])\n",
        "        if ngram in token_indice:\n",
        "          new_list.append(token_indice[ngram])\n",
        "    new_sequences.append(new_list)\n",
        "  return new_sequences\n",
        "\n"
      ],
      "execution_count": 0,
      "outputs": []
    },
    {
      "cell_type": "code",
      "metadata": {
        "id": "53TxKhMjUnXT",
        "colab_type": "code",
        "colab": {
          "base_uri": "https://localhost:8080/",
          "height": 107
        },
        "outputId": "7c73c309-f9f4-459f-c089-6c29d5e6868f"
      },
      "source": [
        "ngram_range = 1\n",
        "max_features = 20000\n",
        "maxlen = 400\n",
        "batch_size = 32\n",
        "embedding_dims = 50\n",
        "epochs = 5\n",
        "\n",
        "print('Loading data...')\n",
        "(x_train, y_train), (x_test, y_test) = imdb.load_data(num_words=max_features)\n",
        "print(len(x_train),'train sequences')\n",
        "print(len(x_test),'test sequences')\n",
        "print('Average train sequence length: {}'.format(\n",
        "    np.mean(list(map(len, x_train)), dtype=int)))\n",
        "print('Average test sequence length: {}'.format(\n",
        "    np.mean(list(map(len, x_test)), dtype=int)))"
      ],
      "execution_count": 34,
      "outputs": [
        {
          "output_type": "stream",
          "text": [
            "Loading data...\n",
            "25000 train sequences\n",
            "25000 test sequences\n",
            "Average train sequence length: 238\n",
            "Average test sequence length: 230\n"
          ],
          "name": "stdout"
        }
      ]
    },
    {
      "cell_type": "code",
      "metadata": {
        "id": "K6ySY7JiZqn_",
        "colab_type": "code",
        "colab": {}
      },
      "source": [
        "if ngram_range > 1:\n",
        "  print('Adding {}-gram features'.format(ngram_range))\n",
        "  ngram_set = set()\n",
        "  for input_list in x_train:\n",
        "    for i in range(2, ngram_range+1):\n",
        "      set_of_ngram = create_ngram_set(input_list, ngram_value=i)\n",
        "      ngram_set.update(set_of_ngram)\n",
        "  \n",
        "  start_index = max_features+1\n",
        "  token_indice = {v: k + start_index for k, v in enumerate(ngram_set)}\n",
        "  indice_token = {token_indice[k]:k for k in token_indice}\n",
        "  \n",
        "  max_features = np.max(list(indice_token.keys())) + 1\n",
        "  \n",
        "  x_train = add_ngram(x_train, token_indice, ngram_range)\n",
        "  x_test = add_ngram(x_test, token_indice, ngram_range)\n",
        "  \n",
        "  print('Average train sequence length: {}'.format(\n",
        "        np.mean(list(map(len, x_train)), dtype=int)))\n",
        "  print('Average test sequence length: {}'.format(\n",
        "        np.mean(list(map(len, x_test)), dtype=int)))"
      ],
      "execution_count": 0,
      "outputs": []
    },
    {
      "cell_type": "code",
      "metadata": {
        "id": "CXbUIs0Vf0S_",
        "colab_type": "code",
        "colab": {
          "base_uri": "https://localhost:8080/",
          "height": 71
        },
        "outputId": "78b9c023-7234-48a7-8398-cc2e50a77409"
      },
      "source": [
        "print('Pad sequences (samples x time)')\n",
        "x_train = sequence.pad_sequences(x_train, maxlen=maxlen)\n",
        "x_test = sequence.pad_sequences(x_test,maxlen=maxlen)\n",
        "print('x_train shape:', x_train.shape)\n",
        "print('x_test shape:', x_test.shape)"
      ],
      "execution_count": 35,
      "outputs": [
        {
          "output_type": "stream",
          "text": [
            "Pad sequences (samples x time)\n",
            "x_train shape: (25000, 400)\n",
            "x_test shape: (25000, 400)\n"
          ],
          "name": "stdout"
        }
      ]
    },
    {
      "cell_type": "code",
      "metadata": {
        "id": "KcOedyZRgZtV",
        "colab_type": "code",
        "colab": {
          "base_uri": "https://localhost:8080/",
          "height": 343
        },
        "outputId": "5db22f28-c0c9-4c58-c78f-b1ddd273eff0"
      },
      "source": [
        "print('Build model...')\n",
        "model = Sequential()\n",
        "\n",
        "model.add(Embedding(max_features,\n",
        "                    embedding_dims,\n",
        "                    input_length=maxlen))\n",
        "model.add(GlobalAveragePooling1D())\n",
        "model.add(Dense(1, activation='sigmoid'))\n",
        "\n",
        "model.compile(loss='binary_crossentropy',optimizer='adam',metrics=['accuracy'])\n",
        "model.fit(x_train,y_train,batch_size=batch_size,epochs=epochs,validation_data=(x_test,y_test))\n"
      ],
      "execution_count": 37,
      "outputs": [
        {
          "output_type": "stream",
          "text": [
            "Build model...\n"
          ],
          "name": "stdout"
        },
        {
          "output_type": "stream",
          "text": [
            "WARNING: Logging before flag parsing goes to stderr.\n",
            "W0731 12:13:22.461377 139981818615680 deprecation.py:323] From /usr/local/lib/python3.6/dist-packages/tensorflow/python/ops/math_grad.py:1250: add_dispatch_support.<locals>.wrapper (from tensorflow.python.ops.array_ops) is deprecated and will be removed in a future version.\n",
            "Instructions for updating:\n",
            "Use tf.where in 2.0, which has the same broadcast rule as np.where\n"
          ],
          "name": "stderr"
        },
        {
          "output_type": "stream",
          "text": [
            "Train on 25000 samples, validate on 25000 samples\n",
            "Epoch 1/5\n",
            "25000/25000 [==============================] - 16s 637us/sample - loss: 0.6115 - accuracy: 0.7336 - val_loss: 0.5019 - val_accuracy: 0.8235\n",
            "Epoch 2/5\n",
            "25000/25000 [==============================] - 15s 616us/sample - loss: 0.4036 - accuracy: 0.8658 - val_loss: 0.3707 - val_accuracy: 0.8658\n",
            "Epoch 3/5\n",
            "25000/25000 [==============================] - 15s 618us/sample - loss: 0.3039 - accuracy: 0.8950 - val_loss: 0.3252 - val_accuracy: 0.8752\n",
            "Epoch 4/5\n",
            "25000/25000 [==============================] - 16s 635us/sample - loss: 0.2528 - accuracy: 0.9114 - val_loss: 0.2969 - val_accuracy: 0.8847\n",
            "Epoch 5/5\n",
            "25000/25000 [==============================] - 16s 643us/sample - loss: 0.2190 - accuracy: 0.9251 - val_loss: 0.2840 - val_accuracy: 0.8888\n"
          ],
          "name": "stdout"
        },
        {
          "output_type": "execute_result",
          "data": {
            "text/plain": [
              "<tensorflow.python.keras.callbacks.History at 0x7f4fbf798080>"
            ]
          },
          "metadata": {
            "tags": []
          },
          "execution_count": 37
        }
      ]
    },
    {
      "cell_type": "code",
      "metadata": {
        "id": "Keiykeys9G3N",
        "colab_type": "code",
        "colab": {
          "base_uri": "https://localhost:8080/",
          "height": 35
        },
        "outputId": "c6b7161b-6ec9-48c9-cf52-62d45eb4fb1a"
      },
      "source": [
        "predictions = model.predict(x_test)\n",
        "predictions[0]"
      ],
      "execution_count": 38,
      "outputs": [
        {
          "output_type": "execute_result",
          "data": {
            "text/plain": [
              "array([0.20629251], dtype=float32)"
            ]
          },
          "metadata": {
            "tags": []
          },
          "execution_count": 38
        }
      ]
    }
  ]
}